{
 "cells": [
  {
   "cell_type": "markdown",
   "metadata": {},
   "source": [
    "Document Parser Rag Pipeline\n",
    "- Parse and index a document using OpenAI embeddings model\n",
    "- Store it in a FAISS vector database that is used to inform user queries\n",
    "- Use OpenAI API to answer questions specifically about the document"
   ]
  },
  {
   "cell_type": "code",
   "execution_count": 6,
   "metadata": {},
   "outputs": [],
   "source": [
    "# Set OpenAI key\n",
    "import os\n",
    "\n",
    "os.environ[\"OPENAI_API_KEY\"] = \"key\""
   ]
  },
  {
   "cell_type": "code",
   "execution_count": 4,
   "metadata": {},
   "outputs": [],
   "source": [
    "# Import and define LLM\n",
    "from langchain_openai import ChatOpenAI\n",
    "\n",
    "llm = ChatOpenAI(model=\"gpt-3.5-turbo\")\n",
    "# llm.invoke(\"What can you do for me?\")"
   ]
  },
  {
   "cell_type": "code",
   "execution_count": 5,
   "metadata": {},
   "outputs": [],
   "source": [
    "# Parse and load PDF\n",
    "from langchain_community.document_loaders import PyPDFLoader\n",
    "\n",
    "loader = PyPDFLoader(\"./RAG_BioBloom.pdf\")\n",
    "pages = loader.load_and_split()"
   ]
  },
  {
   "cell_type": "code",
   "execution_count": 7,
   "metadata": {},
   "outputs": [],
   "source": [
    "# Load to vector knowledge base \n",
    "from langchain_community.vectorstores import FAISS\n",
    "from langchain_openai import OpenAIEmbeddings\n",
    "\n",
    "faiss_index = FAISS.from_documents(pages, OpenAIEmbeddings())\n",
    "faiss_index.save_local('biobloom')"
   ]
  },
  {
   "cell_type": "code",
   "execution_count": 8,
   "metadata": {},
   "outputs": [
    {
     "name": "stderr",
     "output_type": "stream",
     "text": [
      "/Library/Frameworks/Python.framework/Versions/3.9/lib/python3.9/site-packages/langchain_core/_api/deprecation.py:139: LangChainDeprecationWarning: The class `OpenAI` was deprecated in LangChain 0.0.10 and will be removed in 0.3.0. An updated version of the class exists in the langchain-openai package and should be used instead. To use it run `pip install -U langchain-openai` and import as `from langchain_openai import OpenAI`.\n",
      "  warn_deprecated(\n"
     ]
    }
   ],
   "source": [
    "# Load the saved embeddings\n",
    "from langchain.chains import ConversationalRetrievalChain\n",
    "from langchain.llms import OpenAI\n",
    "\n",
    "loaded_vectors = FAISS.load_local(\"biobloom\", OpenAIEmbeddings(), allow_dangerous_deserialization=True)\n",
    "\n",
    "# Conversational Retrieval Chain\n",
    "qa = ConversationalRetrievalChain.from_llm(\n",
    "    llm = OpenAI(),\n",
    "    retriever = loaded_vectors.as_retriever()\n",
    ")\n",
    "\n",
    "chat_history = []\n",
    "def rag(query):\n",
    "    response = qa({\"question\":query, \"chat_history\":chat_history})\n",
    "    chat_history.append((query, response['answer']))\n",
    "    return response['answer'].strip()"
   ]
  },
  {
   "cell_type": "code",
   "execution_count": 11,
   "metadata": {},
   "outputs": [
    {
     "data": {
      "text/plain": [
       "\"Sure, BioBloom's solutions are focused on innovative and sustainable biofuel production, which includes using algae-based technology to minimize waste and maximize yield. They also have a sustainable processing mechanism in place, which converts harmful substances into useful biofuels. This approach results in a high-quality final product with reduced emissions. Additionally, BioBloom has strategic operational and marketing advantages, such as utilizing India's year-long algae production, in-house algae production with vertical farming, and targeting untapped rural and coastal areas. They also have a diverse customer base, including industries like automobile, agriculture, and aviation. In terms of socioeconomic and environmental impact, BioBloom creates employment opportunities and economic growth in rural India, provides subsidized biofuels and byproducts for local farmers, and reduces village reliance on high-emission fuels. They also prioritize biodiversity conservation and ecosystem restoration through their biofuel production process. Furthermore, BioBloom has partnerships with the Indian government, leveraging their support and incentives for renewable energy companies.\""
      ]
     },
     "execution_count": 11,
     "metadata": {},
     "output_type": "execute_result"
    }
   ],
   "source": [
    "rag(\"What are BioBloom's solutions?\")"
   ]
  }
 ],
 "metadata": {
  "kernelspec": {
   "display_name": "Python 3",
   "language": "python",
   "name": "python3"
  },
  "language_info": {
   "codemirror_mode": {
    "name": "ipython",
    "version": 3
   },
   "file_extension": ".py",
   "mimetype": "text/x-python",
   "name": "python",
   "nbconvert_exporter": "python",
   "pygments_lexer": "ipython3",
   "version": "3.9.7"
  },
  "orig_nbformat": 4
 },
 "nbformat": 4,
 "nbformat_minor": 2
}
